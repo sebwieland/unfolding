{
 "cells": [
  {
   "cell_type": "markdown",
   "metadata": {},
   "source": [
    "Initial import"
   ]
  },
  {
   "cell_type": "code",
   "execution_count": 1,
   "metadata": {},
   "outputs": [
    {
     "name": "stdout",
     "output_type": "stream",
     "text": [
      "Welcome to JupyROOT 6.12/06\n"
     ]
    }
   ],
   "source": [
    "from __future__ import print_function\n",
    "from root_numpy import root2array, tree2array\n",
    "import ROOT"
   ]
  },
  {
   "cell_type": "markdown",
   "metadata": {},
   "source": [
    "#Get Data"
   ]
  },
  {
   "cell_type": "code",
   "execution_count": 2,
   "metadata": {},
   "outputs": [
    {
     "name": "stdout",
     "output_type": "stream",
     "text": [
      "******************************************************************************\n",
      "*Tree    :Tree      : Tree                                                   *\n",
      "*Entries :  1000000 : Total =        16047680 bytes  File  Size =   14352984 *\n",
      "*        :          : Tree compression factor =   1.12                       *\n",
      "******************************************************************************\n",
      "*Br    0 :Reco      : Reco/F                                                 *\n",
      "*Entries :  1000000 : Total  Size=    4011767 bytes  File Size  =    3593746 *\n",
      "*Baskets :      126 : Basket Size=      32000 bytes  Compression=   1.12     *\n",
      "*............................................................................*\n",
      "*Br    1 :Gen       : Gen/F                                                  *\n",
      "*Entries :  1000000 : Total  Size=    4011637 bytes  File Size  =    3580256 *\n",
      "*Baskets :      126 : Basket Size=      32000 bytes  Compression=   1.12     *\n",
      "*............................................................................*\n",
      "*Br    2 :data      : data/F                                                 *\n",
      "*Entries :  1000000 : Total  Size=    4011767 bytes  File Size  =    3593746 *\n",
      "*Baskets :      126 : Basket Size=      32000 bytes  Compression=   1.12     *\n",
      "*............................................................................*\n",
      "*Br    3 :dataGen   : dataGen/F                                              *\n",
      "*Entries :  1000000 : Total  Size=    4012157 bytes  File Size  =    3580786 *\n",
      "*Baskets :      126 : Basket Size=      32000 bytes  Compression=   1.12     *\n",
      "*............................................................................*\n"
     ]
    }
   ],
   "source": [
    "rfile = ROOT.TFile(\"TreeFile.root\")\n",
    "intree = rfile.Get('Tree')\n",
    "intree.Print()\n",
    "# and convert the TTree into an array\n",
    "array = tree2array(intree,branches=[\"Gen\",\"Reco\",\"dataGen\",\"data\"])\n",
    "array.dtype.names = ('reco', \"gen\",\"data\", \"dataGen\")"
   ]
  },
  {
   "cell_type": "markdown",
   "metadata": {},
   "source": [
    "#Plot Data"
   ]
  },
  {
   "cell_type": "code",
   "execution_count": 3,
   "metadata": {
    "scrolled": true
   },
   "outputs": [
    {
     "data": {
      "text/plain": [
       "<matplotlib.figure.Figure at 0x7f1de5569890>"
      ]
     },
     "metadata": {},
     "output_type": "display_data"
    },
    {
     "data": {
      "text/plain": [
       "<matplotlib.figure.Figure at 0x7f1ddcf8aed0>"
      ]
     },
     "metadata": {},
     "output_type": "display_data"
    },
    {
     "data": {
      "text/plain": [
       "<matplotlib.figure.Figure at 0x7f1ddcccdcd0>"
      ]
     },
     "metadata": {},
     "output_type": "display_data"
    }
   ],
   "source": [
    "import matplotlib.pyplot as plt\n",
    "from matplotlib.colors import LogNorm\n",
    "import numpy as np\n",
    "import pandas as pd\n",
    "df = pd.DataFrame(array)\n",
    "#print(df)\n",
    "\n",
    "NBins=20\n",
    "xmin=0\n",
    "xmax=1000\n",
    "content_gen ,bins,patches = plt.hist(df['gen'], range=[xmin,xmax] ,bins=NBins)\n",
    "plt.ylabel('# events')\n",
    "plt.xlabel(\"gen\")\n",
    "plt.savefig(\"plots/gen.pdf\")\n",
    "plt.show()\n",
    "plt.gcf().clear()\n",
    "\n",
    "plt.hist(df['reco'], bins=bins)\n",
    "plt.ylabel('# events')\n",
    "plt.xlabel(\"reco\")\n",
    "plt.show()\n",
    "plt.savefig(\"plots/reco.pdf\")\n",
    "plt.gcf().clear()\n",
    "\n",
    "plt.hist2d(df['reco'],df['gen'], bins=bins, range=[[xmin, xmax], [xmin, xmax]],norm=LogNorm())\n",
    "plt.ylabel('gen')\n",
    "plt.xlabel('reco')\n",
    "plt.colorbar()\n",
    "plt.savefig(\"plots/data.pdf\")\n",
    "plt.show()\n",
    "plt.gcf().clear()"
   ]
  },
  {
   "cell_type": "markdown",
   "metadata": {},
   "source": [
    "#Do unfolding using NN"
   ]
  },
  {
   "cell_type": "markdown",
   "metadata": {},
   "source": [
    "basic params"
   ]
  },
  {
   "cell_type": "code",
   "execution_count": 4,
   "metadata": {},
   "outputs": [],
   "source": [
    "batch_size = 1000\n",
    "num_classes = NBins\n",
    "epochs = 2"
   ]
  },
  {
   "cell_type": "markdown",
   "metadata": {},
   "source": [
    "#Keras Imports"
   ]
  },
  {
   "cell_type": "code",
   "execution_count": 5,
   "metadata": {},
   "outputs": [
    {
     "name": "stderr",
     "output_type": "stream",
     "text": [
      "/home/swieland/tools/root/lib/ROOT.py:318: FutureWarning: Conversion of the second argument of issubdtype from `float` to `np.floating` is deprecated. In future, it will be treated as `np.float64 == np.dtype(float).type`.\n",
      "  return _orig_ihook( name, *args, **kwds )\n",
      "Using TensorFlow backend.\n"
     ]
    }
   ],
   "source": [
    "import keras\n",
    "from keras.models import Sequential\n",
    "from keras.layers import Dense\n",
    "from keras.models import Sequential\n",
    "from keras.layers import Dense,Flatten"
   ]
  },
  {
   "cell_type": "markdown",
   "metadata": {},
   "source": [
    "#convert to categorical"
   ]
  },
  {
   "cell_type": "code",
   "execution_count": 31,
   "metadata": {
    "scrolled": true
   },
   "outputs": [
    {
     "name": "stdout",
     "output_type": "stream",
     "text": [
      "[   0.   50.  100.  150.  200.  250.  300.  350.  400.  450.  500.  550.\n",
      "  600.  650.  700.  750.  800.  850.  900.  950. 1000.]\n",
      "[15 13  7 ...  7  8  4]\n",
      "[  0.  50. 100. 150. 200. 250. 300. 350. 400. 450. 500. 550. 600. 650.\n",
      " 700. 750. 800. 850. 900. 950.]\n"
     ]
    }
   ],
   "source": [
    "binwidth=(xmax-xmin)/NBins\n",
    "#GEN\n",
    "gen=df[\"gen\"]\n",
    "bins_= bins[:-1].copy()\n",
    "g=np.digitize(gen,bins_)-1\n",
    "print(bins)\n",
    "print(g)\n",
    "print(bins_)\n",
    "gcat = keras.utils.to_categorical(g,NBins)\n",
    "#Reco\n",
    "reco=df[\"reco\"].values\n",
    "r=np.digitize(reco,bins_)\n",
    "r = r.reshape(r.shape[0],1,1)\n",
    "#for test only\n",
    "#rcat=keras.utils.to_categorical(r,NBins)\n",
    "\n",
    "#dataReco\n",
    "data=df[\"data\"].values\n",
    "data=np.digitize(data,bins_)\n",
    "data = data.reshape(data.shape[0],1,1)\n",
    "#dataGen\n",
    "DataGen=df[\"dataGen\"].values\n",
    "DataGen=np.digitize(DataGen,bins_)-1\n",
    "DataGencat = keras.utils.to_categorical(DataGen,NBins)\n",
    "\n",
    "from sklearn.model_selection import train_test_split\n",
    "r_train, r_test, g_train, g_test = train_test_split(r, gcat, test_size=0.2, random_state=42)"
   ]
  },
  {
   "cell_type": "markdown",
   "metadata": {},
   "source": [
    "#prepare model"
   ]
  },
  {
   "cell_type": "code",
   "execution_count": 32,
   "metadata": {},
   "outputs": [],
   "source": [
    "def prepareModel(nvar=1, NBins=NBins, kappa=8):\n",
    "    ''' Prepare KERAS-based sequential neural network with for ML unfolding. \n",
    "        Nvar defines number of inputvariables. NBins is number of truth bins. \n",
    "        kappa is an empirically tuned parameter for the intermediate layer'''\n",
    "    model = Sequential()\n",
    "    model.add(Dense(nvar,activation='linear',input_shape=(nvar,1)))\n",
    "    model.add(Flatten())\n",
    "    model.add(Dense(kappa*NBins**2,activation='relu'))\n",
    "\n",
    "    # model.add(Dropout(0.25))\n",
    "    # model.add(Dense(2*NBins,activation='relu'))\n",
    "    # model.add(Dropout(0.5))\n",
    "    model.add(Dense(NBins,activation='softmax'))\n",
    "    model.compile(loss=keras.losses.categorical_crossentropy,\n",
    "              optimizer=keras.optimizers.Adadelta(),\n",
    "              metrics=['accuracy'])\n",
    "    return model\n",
    "model = prepareModel(1,NBins)"
   ]
  },
  {
   "cell_type": "markdown",
   "metadata": {},
   "source": [
    "#fit model"
   ]
  },
  {
   "cell_type": "code",
   "execution_count": 33,
   "metadata": {},
   "outputs": [
    {
     "name": "stdout",
     "output_type": "stream",
     "text": [
      "Train on 800000 samples, validate on 200000 samples\n",
      "Epoch 1/2\n",
      "800000/800000 [==============================] - 24s 30us/step - loss: 1.6774 - acc: 0.3181 - val_loss: 1.5225 - val_acc: 0.3527\n",
      "Epoch 2/2\n",
      "800000/800000 [==============================] - 20s 25us/step - loss: 1.5142 - acc: 0.3528 - val_loss: 1.5033 - val_acc: 0.3596\n"
     ]
    },
    {
     "name": "stderr",
     "output_type": "stream",
     "text": [
      "2018-03-25 22:22:34.168616: I tensorflow/core/platform/cpu_feature_guard.cc:137] Your CPU supports instructions that this TensorFlow binary was not compiled to use: SSE4.1 SSE4.2 AVX AVX2\n"
     ]
    }
   ],
   "source": [
    "from datetime import datetime\n",
    "now = datetime.now()\n",
    "logdir = \"./logs/\" + now.strftime(\"%Y%m%d-%H%M%S\") + \"/\"\n",
    "CallBack=keras.callbacks.TensorBoard(log_dir=logdir, histogram_freq=0, batch_size=32, write_graph=True, write_grads=False, write_images=False, embeddings_freq=0, embeddings_layer_names=None, embeddings_metadata=None)\n",
    "h = model.fit(r_train,g_train,batch_size=batch_size,epochs=epochs,verbose=1,validation_data=(r_test,g_test), callbacks=[CallBack])"
   ]
  },
  {
   "cell_type": "markdown",
   "metadata": {},
   "source": [
    "save model"
   ]
  },
  {
   "cell_type": "code",
   "execution_count": 34,
   "metadata": {},
   "outputs": [],
   "source": [
    "model.save(\"model.hdf5\")"
   ]
  },
  {
   "cell_type": "markdown",
   "metadata": {},
   "source": [
    "evaluate model"
   ]
  },
  {
   "cell_type": "code",
   "execution_count": 35,
   "metadata": {},
   "outputs": [
    {
     "name": "stdout",
     "output_type": "stream",
     "text": [
      "200000/200000 [==============================] - 3s 16us/step\n",
      "[1.5032890133666992, 0.35956]\n"
     ]
    }
   ],
   "source": [
    "loss_and_metrics = model.evaluate(r_test, g_test, batch_size=128)\n",
    "print(loss_and_metrics)"
   ]
  },
  {
   "cell_type": "markdown",
   "metadata": {},
   "source": [
    "test predictions"
   ]
  },
  {
   "cell_type": "code",
   "execution_count": 37,
   "metadata": {},
   "outputs": [
    {
     "name": "stdout",
     "output_type": "stream",
     "text": [
      "2 1\n",
      "8 9\n",
      "12 13\n",
      "4 4\n",
      "4 2\n",
      "2 3\n",
      "9 8\n",
      "2 1\n",
      "4 3\n",
      "3 5\n",
      "3 3\n",
      "2 2\n",
      "3 3\n",
      "12 10\n",
      "5 4\n",
      "3 3\n",
      "9 8\n",
      "2 3\n",
      "6 7\n",
      "2 0\n",
      "2 1\n",
      "4 4\n",
      "2 2\n",
      "2 2\n",
      "7 6\n",
      "3 1\n",
      "2 2\n",
      "2 1\n",
      "5 6\n",
      "7 7\n",
      "2 2\n",
      "2 4\n",
      "3 3\n",
      "8 8\n",
      "5 4\n",
      "12 12\n",
      "9 9\n",
      "8 8\n",
      "2 3\n",
      "3 2\n"
     ]
    }
   ],
   "source": [
    "prob = model.predict(r_test, batch_size=128)\n",
    "classes=prob.argmax(axis=-1)\n",
    "\n",
    "for i in range(40):    \n",
    "    print(classes[i],g_test.argmax(axis=-1)[i])"
   ]
  },
  {
   "cell_type": "code",
   "execution_count": 41,
   "metadata": {},
   "outputs": [
    {
     "data": {
      "image/png": "[encoded data removed]",
      "text/plain": [
       "<matplotlib.figure.Figure at 0x7f1d746d88d0>"
      ]
     },
     "metadata": {},
     "output_type": "display_data"
    },
    {
     "data": {
      "image/png": "[encoded data removed]",
      "text/plain": [
       "<matplotlib.figure.Figure at 0x7f1d99297e50>"
      ]
     },
     "metadata": {},
     "output_type": "display_data"
    },
    {
     "data": {
      "image/png": "[encoded data removed]",
      "text/plain": [
       "<matplotlib.figure.Figure at 0x7f1d99297410>"
      ]
     },
     "metadata": {},
     "output_type": "display_data"
    },
    {
     "data": {
      "image/png": "[encoded data removed]",
      "text/plain": [
       "<matplotlib.figure.Figure at 0x7f1d74705310>"
      ]
     },
     "metadata": {},
     "output_type": "display_data"
    }
   ],
   "source": [
    "pred=classes*binwidth\n",
    "\n",
    "plt.hist(df[\"data\"] ,bins=NBins)\n",
    "plt.ylabel('# events')\n",
    "plt.xlabel(\"data\")\n",
    "plt.show()\n",
    "plt.savefig(\"plots/pred.pdf\")\n",
    "plt.gcf().clear()\n",
    "\n",
    "plt.hist(pred ,bins=NBins)\n",
    "plt.ylabel('# events')\n",
    "plt.xlabel(\"pred\")\n",
    "plt.show()\n",
    "plt.savefig(\"plots/pred.pdf\")\n",
    "plt.gcf().clear()\n",
    "\n",
    "plt.hist(g_test.argmax(axis=-1)*binwidth ,bins=NBins)\n",
    "plt.ylabel('# events')\n",
    "plt.xlabel(\"gen\")\n",
    "plt.show()\n",
    "plt.gcf().clear()\n",
    "\n",
    "plt.hist(pred, bins=NBins, alpha=0.5, label='pred')\n",
    "plt.hist(g_test.argmax(axis=-1)*binwidth , bins=NBins, alpha=0.5, label='gen')\n",
    "plt.legend(loc='upper right')\n",
    "plt.show()"
   ]
  },
  {
   "cell_type": "code",
   "execution_count": null,
   "metadata": {},
   "outputs": [],
   "source": []
  }
 ],
 "metadata": {
  "kernelspec": {
   "display_name": "Python 2",
   "language": "python",
   "name": "python2"
  },
  "language_info": {
   "codemirror_mode": {
    "name": "ipython",
    "version": 2
   },
   "file_extension": ".py",
   "mimetype": "text/x-python",
   "name": "python",
   "nbconvert_exporter": "python",
   "pygments_lexer": "ipython2",
   "version": "2.7.14"
  }
 },
 "nbformat": 4,
 "nbformat_minor": 2
}
